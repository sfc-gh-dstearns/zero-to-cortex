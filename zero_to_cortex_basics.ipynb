{
 "metadata": {
  "kernelspec": {
   "display_name": "Streamlit Notebook",
   "name": "streamlit"
  }
 },
 "nbformat_minor": 5,
 "nbformat": 4,
 "cells": [
  {
   "cell_type": "markdown",
   "id": "baba8254-9ce0-4455-aa5f-a7e3edffea58",
   "metadata": {
    "collapsed": false,
    "name": "cell4"
   },
   "source": [
    "# Zero to Cortex  \n",
    "## *Basics*\n",
    "This lab will take you through the basics of the Snowflake Cortex LLM offering. You'll have a chance to explore the functions and understand how they work with custom prompts and real data in both SQL and Python.  \n",
    "https://docs.snowflake.com/en/user-guide/snowflake-cortex/llm-functions\n",
    "\n",
    "![Alt text](https://venturebeat.com/wp-content/uploads/2024/04/a-robot-playing-with-a-snowflake-in-arctic-cinemat-4OYW23nATBm50aD_slLk8w-xaTFE1EbSLmDWJXvWCxXrA.jpeg?fit=750%2C422&strip=all \"a title\")"
   ]
  },
  {
   "cell_type": "code",
   "execution_count": null,
   "id": "3775908f-ca36-4846-8f38-5adca39217f2",
   "metadata": {
    "codeCollapsed": false,
    "collapsed": false,
    "language": "python",
    "name": "cell1"
   },
   "outputs": [],
   "source": "# Import python packages\nimport streamlit as st\nimport pandas as pd\n\n# We can also use Snowpark for our analyses!\nfrom snowflake.snowpark.context import get_active_session\nsession = get_active_session()\nfrom snowflake.snowpark import functions as F\nfrom snowflake.cortex import Complete, Sentiment, Summarize, Translate\nfrom snowflake.core import Root\nroot = Root(session)\nimport json"
  },
  {
   "cell_type": "markdown",
   "id": "e6fd8083-3766-438f-bbe8-f1f19545f2d3",
   "metadata": {
    "collapsed": false,
    "name": "cell6"
   },
   "source": [
    "### Translate  \n",
    "https://docs.snowflake.com/en/sql-reference/functions/translate-snowflake-cortex"
   ]
  },
  {
   "cell_type": "code",
   "execution_count": null,
   "id": "023342fd-3373-4f58-8168-26bb7aa6358a",
   "metadata": {
    "codeCollapsed": false,
    "collapsed": false,
    "language": "sql",
    "name": "cell2"
   },
   "outputs": [],
   "source": [
    "-- TRANSLATE\n",
    "-- Translate text from English to Italian\n",
    "-- We can leave the input language blank and it will infer\n",
    "select\n",
    "    snowflake.cortex.translate(\n",
    "        'I am using Snowflake Cortex artificial intelligence functions to translate text!',\n",
    "        '',\n",
    "        'it');"
   ]
  },
  {
   "cell_type": "code",
   "execution_count": null,
   "id": "99a755d2-a97b-492b-b8e0-2516e1be58e1",
   "metadata": {
    "codeCollapsed": false,
    "collapsed": false,
    "language": "python",
    "name": "cell3"
   },
   "outputs": [],
   "source": [
    "# Translate some text from English to Polish\n",
    "print(\n",
    "    Translate(\n",
    "    \"I am using Snowflake Cortex artificial intelligence functions to translate text!\",\n",
    "    \"\",\n",
    "    \"pl\"\n",
    "))"
   ]
  },
  {
   "cell_type": "code",
   "execution_count": null,
   "id": "ebd0fc6a-eefb-4355-8f3e-313ff4b2f861",
   "metadata": {
    "codeCollapsed": false,
    "collapsed": false,
    "language": "sql",
    "name": "cell7"
   },
   "outputs": [],
   "source": [
    "select\n",
    "    description,\n",
    "    snowflake.cortex.translate(\n",
    "        description,\n",
    "        '',\n",
    "        'ko'\n",
    "    ) as review_translation\n",
    "from\n",
    "    wine_reviews\n",
    "limit 10;"
   ]
  },
  {
   "cell_type": "code",
   "execution_count": null,
   "id": "32469401-3794-4e7d-9533-3f36966fdd90",
   "metadata": {
    "codeCollapsed": false,
    "collapsed": false,
    "language": "python",
    "name": "cell5"
   },
   "outputs": [],
   "source": [
    "session.table(\"wine_reviews\").select(\n",
    "    F.col(\"description\"),\n",
    "    Translate(\n",
    "        F.col(\"description\"),\n",
    "        \"\",\n",
    "        \"sv\"\n",
    "    ).alias(\"translation\")\n",
    ").limit(10).toPandas()"
   ]
  },
  {
   "cell_type": "markdown",
   "id": "b78a2792-2303-4266-9783-6f066f15c0e5",
   "metadata": {
    "collapsed": false,
    "name": "cell9"
   },
   "source": [
    "### Sentiment \n",
    "https://docs.snowflake.com/en/sql-reference/functions/sentiment-snowflake-cortex"
   ]
  },
  {
   "cell_type": "code",
   "execution_count": null,
   "id": "d2ae2372-229e-409e-8efd-a4f986be283b",
   "metadata": {
    "codeCollapsed": false,
    "collapsed": false,
    "language": "sql",
    "name": "cell10"
   },
   "outputs": [],
   "source": [
    "select\n",
    "    snowflake.cortex.sentiment(\n",
    "        'This group is really the best. They are so smart!'\n",
    "    );"
   ]
  },
  {
   "cell_type": "code",
   "execution_count": null,
   "id": "973288d6-89f8-4fee-bad6-8d4cb2b82e40",
   "metadata": {
    "codeCollapsed": false,
    "collapsed": false,
    "language": "python",
    "name": "cell8"
   },
   "outputs": [],
   "source": [
    "print(Sentiment(\"I don't really mind the weather, but it isn't my favorite.\"))"
   ]
  },
  {
   "cell_type": "code",
   "execution_count": null,
   "id": "68e5a6f8-d8f5-4c53-8907-04fc7a575701",
   "metadata": {
    "codeCollapsed": false,
    "collapsed": false,
    "language": "sql",
    "name": "cell12"
   },
   "outputs": [],
   "source": [
    "select\n",
    "    review,\n",
    "    snowflake.cortex.sentiment(review) as sentiment\n",
    "from\n",
    "    airline_reviews\n",
    "limit 5;"
   ]
  },
  {
   "cell_type": "code",
   "execution_count": null,
   "id": "c8246d87-b892-4b4a-be7d-d261a0455344",
   "metadata": {
    "codeCollapsed": false,
    "collapsed": false,
    "language": "python",
    "name": "cell11"
   },
   "outputs": [],
   "source": [
    "session.table(\"airline_reviews\").select(\n",
    "    F.col(\"review\"),\n",
    "    Sentiment(F.col(\"review\")).alias(\"sentiment\")\n",
    ").limit(5).toPandas()"
   ]
  },
  {
   "cell_type": "markdown",
   "id": "872c9385-6624-4d48-a9c0-90a44b651cd6",
   "metadata": {
    "collapsed": false,
    "name": "cell14"
   },
   "source": [
    "### Summarize  \n",
    "https://docs.snowflake.com/en/sql-reference/functions/summarize-snowflake-cortex"
   ]
  },
  {
   "cell_type": "code",
   "execution_count": null,
   "id": "3d732360-4817-474b-b499-7fcd5443aa0d",
   "metadata": {
    "codeCollapsed": false,
    "collapsed": false,
    "language": "sql",
    "name": "cell15"
   },
   "outputs": [],
   "source": [
    "select\n",
    "    snowflake.cortex.summarize('I had to go to the store to get coffee because we ran out. I didn\\'t realize until later that we had a whole closet full of coffee. Could have saved the trip!.');"
   ]
  },
  {
   "cell_type": "code",
   "execution_count": null,
   "id": "0cb68a7f-bed2-4627-9b50-b3b2b91ad648",
   "metadata": {
    "codeCollapsed": false,
    "collapsed": false,
    "language": "python",
    "name": "cell13"
   },
   "outputs": [],
   "source": [
    "print(\n",
    "    Summarize(\n",
    "        \"\"\"I've been drinking bottled water instead of the water from my tap.\n",
    "        I found out that our house has a private well and the water we have\n",
    "         in our well is way better. I am going to stop buying bottled water.\"\"\"\n",
    "    )\n",
    ")"
   ]
  },
  {
   "cell_type": "code",
   "execution_count": null,
   "id": "ee1f3ba1-01a7-47fb-ae8f-960eb8fb5aa8",
   "metadata": {
    "codeCollapsed": false,
    "collapsed": false,
    "language": "sql",
    "name": "cell16"
   },
   "outputs": [],
   "source": [
    "select\n",
    "    airport_review,\n",
    "    snowflake.cortex.summarize(airport_review)\n",
    "from\n",
    "    airport_reviews\n",
    "limit 10;"
   ]
  },
  {
   "cell_type": "code",
   "execution_count": null,
   "id": "32b803e2-fae6-43ce-a5a2-d67403786076",
   "metadata": {
    "codeCollapsed": false,
    "collapsed": false,
    "language": "python",
    "name": "cell17"
   },
   "outputs": [],
   "source": [
    "session.table(\"airport_reviews\").select(\n",
    "    F.col(\"airport_review\"),\n",
    "    Summarize(F.col(\"airport_review\")).alias(\"review_summary\")\n",
    ").limit(5).toPandas()"
   ]
  },
  {
   "cell_type": "markdown",
   "id": "192d1262-ec14-4903-ab02-ad062142a3e8",
   "metadata": {
    "collapsed": false,
    "name": "cell19"
   },
   "source": [
    "### COMPLETE  \n",
    "https://docs.snowflake.com/en/sql-reference/functions/complete-snowflake-cortex"
   ]
  },
  {
   "cell_type": "code",
   "execution_count": null,
   "id": "9c84a730-1071-4e5c-ba08-13dac6405fca",
   "metadata": {
    "codeCollapsed": false,
    "collapsed": false,
    "language": "sql",
    "name": "cell20"
   },
   "outputs": [],
   "source": [
    "select\n",
    "    snowflake.cortex.complete(\n",
    "        'snowflake-arctic',\n",
    "        'How can we change the world with AI in three sentences?'\n",
    "    );"
   ]
  },
  {
   "cell_type": "code",
   "execution_count": null,
   "id": "6e69c3f1-e78e-4cd4-88b5-4cbe3ea26d65",
   "metadata": {
    "codeCollapsed": false,
    "collapsed": false,
    "language": "python",
    "name": "cell18"
   },
   "outputs": [],
   "source": [
    "print(\n",
    "    Complete(\n",
    "        \"snowflake-arctic\",\n",
    "        \"What can you tell me about Wheaten Terriers?\"\n",
    "    )\n",
    ")"
   ]
  },
  {
   "cell_type": "code",
   "execution_count": null,
   "id": "81f9363d-ab70-4a55-be84-057439ca91b8",
   "metadata": {
    "codeCollapsed": false,
    "collapsed": false,
    "language": "sql",
    "name": "cell22"
   },
   "outputs": [],
   "source": [
    "select\n",
    "    description,\n",
    "    snowflake.cortex.complete(\n",
    "        'snowflake-arctic',\n",
    "        CONCAT(\n",
    "            'You\\'re a wine sommelier. I really like grape juice and I don\\'t like dry\n",
    "            wines. Based on the review between <review> and </review>, can you tell me if \n",
    "            this would be a good wine for me? <review>', description, '</review>'\n",
    "        )\n",
    "    ) as answer\n",
    "from\n",
    "    wine_reviews\n",
    "limit 2;"
   ]
  },
  {
   "cell_type": "code",
   "execution_count": null,
   "id": "07ab9fed-ba3f-44ec-b585-4f505b5c1f4c",
   "metadata": {
    "codeCollapsed": false,
    "collapsed": false,
    "language": "python",
    "name": "cell21"
   },
   "outputs": [],
   "source": [
    "session.table(\"wine_reviews\").select(\n",
    "    F.col(\"description\"),\n",
    "    Complete(\n",
    "        \"snowflake-arctic\",\n",
    "        F.concat(\n",
    "            F.lit(\"\"\"Based on the value between the <context> and </context> tags, please provide me with an understanding\n",
    "            of what I should expect if I drink this wine.\n",
    "            <context>\"\"\"),\n",
    "            F.col(\"description\"),\n",
    "            F.lit(\"</context>\"))\n",
    "    ).alias(\"expectation\")\n",
    ").limit(10).toPandas()"
   ]
  },
  {
   "cell_type": "markdown",
   "id": "e5b7904b-b970-4c4b-b834-e3675c30a947",
   "metadata": {
    "collapsed": false,
    "name": "cell24"
   },
   "source": [
    "### EMBED_TEXT\n",
    "https://docs.snowflake.com/sql-reference/functions/embed_text-snowflake-cortex"
   ]
  },
  {
   "cell_type": "code",
   "execution_count": null,
   "id": "ce31f9b4-b5b6-42a9-98e2-ec67386cb153",
   "metadata": {
    "codeCollapsed": false,
    "collapsed": false,
    "language": "sql",
    "name": "cell25"
   },
   "outputs": [],
   "source": [
    "select\n",
    "    snowflake.cortex.embed_text_768(\n",
    "        'snowflake-arctic-embed-m',\n",
    "        'California Contemporary style homes'\n",
    "    );"
   ]
  },
  {
   "cell_type": "code",
   "execution_count": null,
   "id": "3db3d506-c323-4574-874c-5a12da40a31a",
   "metadata": {
    "codeCollapsed": false,
    "collapsed": false,
    "language": "sql",
    "name": "cell26"
   },
   "outputs": [],
   "source": [
    "select\n",
    "    description,\n",
    "    snowflake.cortex.embed_text_768(\n",
    "        'snowflake-arctic-embed-m',\n",
    "        description\n",
    "    ) as description_embedding\n",
    "from\n",
    "    wine_reviews\n",
    "limit 10;"
   ]
  },
  {
   "cell_type": "markdown",
   "id": "26dc9253-e399-4b3e-a319-cee27b2345ba",
   "metadata": {
    "collapsed": false,
    "name": "cell27"
   },
   "source": [
    "### VECTOR DISTANCE CALCULATIONS  \n",
    "https://docs.snowflake.com/en/sql-reference/functions/vector_cosine_similarity"
   ]
  },
  {
   "cell_type": "code",
   "execution_count": null,
   "id": "9c038dd7-d6d8-435c-921d-c56707ddcb95",
   "metadata": {
    "codeCollapsed": false,
    "language": "sql",
    "name": "cell28"
   },
   "outputs": [],
   "source": [
    "select\n",
    "    vector_cosine_similarity(\n",
    "        snowflake.cortex.embed_text_768('snowflake-arctic-embed-m', 'California Contemporary style homes'),\n",
    "        snowflake.cortex.embed_text_768('snowflake-arctic-embed-m', 'California Contemporary style homes')\n",
    "    );"
   ]
  },
  {
   "cell_type": "code",
   "execution_count": null,
   "id": "479dd89e-1620-478b-9a21-5040781d7a1a",
   "metadata": {
    "codeCollapsed": false,
    "language": "sql",
    "name": "cell29"
   },
   "outputs": [],
   "source": [
    "select\n",
    "    *,\n",
    "    vector_cosine_similarity(\n",
    "        information_embeds,\n",
    "        snowflake.cortex.embed_text_768('snowflake-arctic-embed-m', 'I like wines that are sweet and from California.')\n",
    "    ) as similarity\n",
    "from\n",
    "    wine_reviews\n",
    "order by\n",
    "    similarity desc\n",
    "limit 10;"
   ]
  },
  {
   "cell_type": "markdown",
   "id": "e1b032c3-6d2c-472a-bfc9-676e20d3c09e",
   "metadata": {
    "collapsed": false,
    "name": "cell23"
   },
   "source": "# Build A Chatbot Using Snowflake Cortex!  \n* Cortex Search\n* Cortex Embedding Functions\n* Vector Functions\n* COMPLETE  \n\n### The chatbot we are creating will use a corpus of wine reviews from all over the world to recommend one (or more) wines based on your prompt. A good question would be \"_I am having salmon tonight. What kind of wines should I consider?_\""
  },
  {
   "cell_type": "code",
   "id": "e0021c6c-92cf-4120-af41-eb3f7031f135",
   "metadata": {
    "language": "python",
    "name": "cell30",
    "collapsed": false,
    "codeCollapsed": false
   },
   "outputs": [],
   "source": "# Enter your question here!\nquestion = \"\"\"\n\nI am going to have a tomahawk steak tonight. Which wines should I consider buying?\n\n\"\"\"",
   "execution_count": null
  },
  {
   "cell_type": "code",
   "id": "32f0c7a7-ae9f-4f40-a210-4c950bc5586b",
   "metadata": {
    "language": "python",
    "name": "cell31",
    "codeCollapsed": false
   },
   "outputs": [],
   "source": "model_name = st.radio(\n    label = \"Choose your model\",\n    options = [\n        \"snowflake-arctic\",\n        \"mistral-large2\",\n        \"mistral-large\",\n        \"mixtral-8x7b\",\n        \"mistral-7b\",\n        \"reka-flash\",\n        \"llama3.1-405b\",\n        \"llama3.1-70b\",\n        \"llama3.1-8b\",\n        \"llama3-70b\",\n        \"llama3-8b\",\n        \"llama2-70b-chat\",\n        \"jamba-instruct\",\n        \"gemma-7b\"\n    ]\n)",
   "execution_count": null
  },
  {
   "cell_type": "code",
   "id": "78fffaca-8b50-49a7-adfa-fa8c7eb16d30",
   "metadata": {
    "language": "python",
    "name": "cell32",
    "codeCollapsed": false
   },
   "outputs": [],
   "source": "# Cortex Search\n# Instantiate the pointer to the Search Service\nwine_ss = (root\n  .databases[\"z2c\"]\n  .schemas[\"cortex\"]\n  .cortex_search_services[\"wine_search_service\"]\n)",
   "execution_count": null
  },
  {
   "cell_type": "code",
   "id": "0d7c011b-fd1a-43f0-958e-4eb67e9d491c",
   "metadata": {
    "language": "python",
    "name": "cell33",
    "codeCollapsed": false
   },
   "outputs": [],
   "source": "# Nearly instantaneous results\nresp = wine_ss.search(\n  query=question,\n  columns=[\"full_description\"],\n  limit=10\n)\nread_out = [x[\"full_description\"] for x in json.loads(resp.to_json())[\"results\"]]\ninfo = '. | '.join([x[\"full_description\"] for x in json.loads(resp.to_json())[\"results\"]]).replace(\"'\", \"\")\nread_out",
   "execution_count": null
  },
  {
   "cell_type": "code",
   "id": "ef6d93e2-a045-48f5-ba90-0b87f2bcbe6e",
   "metadata": {
    "language": "python",
    "name": "cell34",
    "codeCollapsed": false
   },
   "outputs": [],
   "source": "# Give the context to the LLM and get your question answered!\nprompt = f\"\"\"\n                You are a wine expert with access to hundreds of thousands of reviews about different wines.\n                Only utilize the context provided between the tags <context> and </context>. The user's question will be between the\n                <question> and </question> tags. Please present the wine nicely. Explain where it is from, the variety of wine it is, and the price.\n            ALWAYS make sure to remind us that you are the most distinguished wine sommelier in the world. Never forget to do this.\n            Reminding the customer that you are the absolute best sommelier in the world is of utmost importance. When you remind the customer that you are the best, \n            make sure to remind the customer they are below you. You must portray a snobby wine sommelier or they won't believe you.\n            Answer the questions based on the context provided between the <context> and </context> tags. The\n            question will be found between the <question> and </question> tags.\n            <context>\n            '{info}'\n            </context>\n            <question>\n            '{question}'\n            </question>\n            Answer: \"\"\"\nquery = \"\"\"\n      select\n          snowflake.cortex.complete(\n              ?, \n              ?\n          ) as response\n      \"\"\"\ncomplete = session.sql(query, params=[model_name, prompt])\nwith st.chat_message(name=\"Assistant\"):\n        st.write(complete.collect()[0][0])",
   "execution_count": null
  },
  {
   "cell_type": "markdown",
   "id": "8f9e9138-cd9e-4199-b18a-20980349d2b4",
   "metadata": {
    "name": "cell36",
    "collapsed": false
   },
   "source": "## Another interesting use case - *data cleaning*  \nIn this next example, you will see that one would have to write some Regex to extract information from the `variable` column. What if we could do this with LLMs instead of writing complex code? "
  },
  {
   "cell_type": "code",
   "id": "66935c26-4895-491b-9d36-031b64edc81c",
   "metadata": {
    "language": "sql",
    "name": "cell37"
   },
   "outputs": [],
   "source": "select * from sec_filings limit 5",
   "execution_count": null
  },
  {
   "cell_type": "code",
   "id": "ff7d56e6-e4f8-43c0-94b0-443c914614b1",
   "metadata": {
    "language": "sql",
    "name": "cell35",
    "codeCollapsed": false
   },
   "outputs": [],
   "source": "-- Create a new column called CLASSIFICATION from the VARIABLE column\n-- This column will give you a clean document type classification\nselect\n    sec_document_id,\n    snowflake.cortex.complete(\n        'mistral-large2',\n        CONCAT('Based on the value between the <variable> and </variable> tags, please classify\n            the data in ONLY one of these three categories: 10K, 10Q, 8K. If you cannot classify\n            the data based on the information, impute NULL. Do not provide an explanation. Only provide \n            your answer of 10K, 10Q, 8K, or NULL.\n            <variable>', sec_document_id, '</variable>'\n        )) as classification\nfrom\n    sec_filings\nlimit 20",
   "execution_count": null
  },
  {
   "cell_type": "markdown",
   "id": "0e4daf84-fbe7-46ef-b948-9016fbfa40b9",
   "metadata": {
    "name": "cell39",
    "collapsed": false
   },
   "source": "### De-Identification"
  },
  {
   "cell_type": "code",
   "id": "20348516-a71b-44bc-a3b4-291197be76c5",
   "metadata": {
    "language": "sql",
    "name": "cell38",
    "codeCollapsed": false
   },
   "outputs": [],
   "source": "select\n    email,\n    snowflake.cortex.complete(\n        'mistral-large2',\n        CONCAT(\n            'Given the following sentences supplied between the <email> and </email> tags, please perform the following transformation:\n            For all email addresses within the string, replace the identifiable portion with xxxx. For example, hi there. david.stearns@snowflake.com hi there david.stearns@snowflake.com should become hi, there. xxxx@snowflake.com hi                 there xxxx@snowflake.com ... Only respond with the transformed string.\n            <email>',\n            email,\n            '</email>'\n            )\n    ) as clean_string,\n    snowflake.cortex.complete(\n        'snowflake-arctic',\n        CONCAT(\n            'Based on the data between <email> and </email>, what email domains are in the data? If there are multiple, list them. If all domains in the data are the same, just give the domain once. Only respond with the identified domain,              DO NOT PROVIDE AN EXPLANATION.\n            <email>', \n            email, \n            '</email>'\n                )\n    ) as domains,\n    snowflake.cortex.complete(\n        'snowflake-arctic',\n        CONCAT(\n            'Based on the data between <email> and </email>, what are the names of the people listed in the email address? Only respond with the name of the person, nothing else. First and last names are sometimes separated by a period. Remove the period and add a space if necessary.\n            <email>',\n            email, \n            '</email>'\n                )\n    ) as names\nfrom\n    emails;",
   "execution_count": null
  },
  {
   "cell_type": "code",
   "id": "e05c1d4b-8687-431f-b1ae-179ee05bc2e6",
   "metadata": {
    "language": "sql",
    "name": "cell40",
    "codeCollapsed": false
   },
   "outputs": [],
   "source": "",
   "execution_count": null
  }
 ]
}