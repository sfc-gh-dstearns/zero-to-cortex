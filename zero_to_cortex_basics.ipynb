{
 "cells": [
  {
   "cell_type": "markdown",
   "id": "baba8254-9ce0-4455-aa5f-a7e3edffea58",
   "metadata": {
    "collapsed": false,
    "name": "cell4"
   },
   "source": [
    "# Zero to Cortex  \n",
    "## *Basics*\n",
    "This lab will take you through the basics of the Snowflake Cortex LLM offering. You'll have a chance to explore the functions and understand how they work with custom prompts and real data in both SQL and Python.  \n",
    "https://docs.snowflake.com/en/user-guide/snowflake-cortex/llm-functions\n",
    "\n",
    "![Alt text](https://venturebeat.com/wp-content/uploads/2024/04/a-robot-playing-with-a-snowflake-in-arctic-cinemat-4OYW23nATBm50aD_slLk8w-xaTFE1EbSLmDWJXvWCxXrA.jpeg?fit=750%2C422&strip=all \"a title\")"
   ]
  },
  {
   "cell_type": "code",
   "execution_count": null,
   "id": "3775908f-ca36-4846-8f38-5adca39217f2",
   "metadata": {
    "codeCollapsed": false,
    "collapsed": false,
    "language": "python",
    "name": "cell1"
   },
   "outputs": [],
   "source": [
    "# Import python packages\n",
    "import streamlit as st\n",
    "import pandas as pd\n",
    "\n",
    "# We can also use Snowpark for our analyses!\n",
    "from snowflake.snowpark.context import get_active_session\n",
    "session = get_active_session()\n",
    "from snowflake.snowpark import functions as F\n",
    "from snowflake.cortex import Complete, Sentiment, Summarize, Translate"
   ]
  },
  {
   "cell_type": "markdown",
   "id": "e6fd8083-3766-438f-bbe8-f1f19545f2d3",
   "metadata": {
    "collapsed": false,
    "name": "cell6"
   },
   "source": [
    "### Translate  \n",
    "https://docs.snowflake.com/en/sql-reference/functions/translate-snowflake-cortex"
   ]
  },
  {
   "cell_type": "code",
   "execution_count": null,
   "id": "023342fd-3373-4f58-8168-26bb7aa6358a",
   "metadata": {
    "codeCollapsed": false,
    "collapsed": false,
    "language": "sql",
    "name": "cell2"
   },
   "outputs": [],
   "source": [
    "-- TRANSLATE\n",
    "-- Translate text from English to Italian\n",
    "-- We can leave the input language blank and it will infer\n",
    "select\n",
    "    snowflake.cortex.translate(\n",
    "        'I am using Snowflake Cortex artificial intelligence functions to translate text!',\n",
    "        '',\n",
    "        'it');"
   ]
  },
  {
   "cell_type": "code",
   "execution_count": null,
   "id": "99a755d2-a97b-492b-b8e0-2516e1be58e1",
   "metadata": {
    "codeCollapsed": false,
    "collapsed": false,
    "language": "python",
    "name": "cell3"
   },
   "outputs": [],
   "source": [
    "# Translate some text from English to Polish\n",
    "print(\n",
    "    Translate(\n",
    "    \"I am using Snowflake Cortex artificial intelligence functions to translate text!\",\n",
    "    \"\",\n",
    "    \"pl\"\n",
    "))"
   ]
  },
  {
   "cell_type": "code",
   "execution_count": null,
   "id": "ebd0fc6a-eefb-4355-8f3e-313ff4b2f861",
   "metadata": {
    "codeCollapsed": false,
    "collapsed": false,
    "language": "sql",
    "name": "cell7"
   },
   "outputs": [],
   "source": [
    "select\n",
    "    description,\n",
    "    snowflake.cortex.translate(\n",
    "        description,\n",
    "        '',\n",
    "        'ko'\n",
    "    ) as review_translation\n",
    "from\n",
    "    wine_reviews\n",
    "limit 10;"
   ]
  },
  {
   "cell_type": "code",
   "execution_count": null,
   "id": "32469401-3794-4e7d-9533-3f36966fdd90",
   "metadata": {
    "codeCollapsed": false,
    "collapsed": false,
    "language": "python",
    "name": "cell5"
   },
   "outputs": [],
   "source": [
    "session.table(\"wine_reviews\").select(\n",
    "    F.col(\"description\"),\n",
    "    Translate(\n",
    "        F.col(\"description\"),\n",
    "        \"\",\n",
    "        \"sv\"\n",
    "    ).alias(\"translation\")\n",
    ").limit(10).toPandas()"
   ]
  },
  {
   "cell_type": "markdown",
   "id": "b78a2792-2303-4266-9783-6f066f15c0e5",
   "metadata": {
    "collapsed": false,
    "name": "cell9"
   },
   "source": [
    "### Sentiment \n",
    "https://docs.snowflake.com/en/sql-reference/functions/sentiment-snowflake-cortex"
   ]
  },
  {
   "cell_type": "code",
   "execution_count": null,
   "id": "d2ae2372-229e-409e-8efd-a4f986be283b",
   "metadata": {
    "codeCollapsed": false,
    "collapsed": false,
    "language": "sql",
    "name": "cell10"
   },
   "outputs": [],
   "source": [
    "select\n",
    "    snowflake.cortex.sentiment(\n",
    "        'This group is really the best. They are so smart!'\n",
    "    );"
   ]
  },
  {
   "cell_type": "code",
   "execution_count": null,
   "id": "973288d6-89f8-4fee-bad6-8d4cb2b82e40",
   "metadata": {
    "codeCollapsed": false,
    "collapsed": false,
    "language": "python",
    "name": "cell8"
   },
   "outputs": [],
   "source": [
    "print(Sentiment(\"I don't really mind the weather, but it isn't my favorite.\"))"
   ]
  },
  {
   "cell_type": "code",
   "execution_count": null,
   "id": "68e5a6f8-d8f5-4c53-8907-04fc7a575701",
   "metadata": {
    "codeCollapsed": false,
    "collapsed": false,
    "language": "sql",
    "name": "cell12"
   },
   "outputs": [],
   "source": [
    "select\n",
    "    review,\n",
    "    snowflake.cortex.sentiment(review) as sentiment\n",
    "from\n",
    "    airline_reviews\n",
    "limit 5;"
   ]
  },
  {
   "cell_type": "code",
   "execution_count": null,
   "id": "c8246d87-b892-4b4a-be7d-d261a0455344",
   "metadata": {
    "codeCollapsed": false,
    "collapsed": false,
    "language": "python",
    "name": "cell11"
   },
   "outputs": [],
   "source": [
    "session.table(\"airline_reviews\").select(\n",
    "    F.col(\"review\"),\n",
    "    Sentiment(F.col(\"review\")).alias(\"sentiment\")\n",
    ").limit(5).toPandas()"
   ]
  },
  {
   "cell_type": "markdown",
   "id": "872c9385-6624-4d48-a9c0-90a44b651cd6",
   "metadata": {
    "collapsed": false,
    "name": "cell14"
   },
   "source": [
    "### Summarize  \n",
    "https://docs.snowflake.com/en/sql-reference/functions/summarize-snowflake-cortex"
   ]
  },
  {
   "cell_type": "code",
   "execution_count": null,
   "id": "3d732360-4817-474b-b499-7fcd5443aa0d",
   "metadata": {
    "codeCollapsed": false,
    "collapsed": false,
    "language": "sql",
    "name": "cell15"
   },
   "outputs": [],
   "source": [
    "select\n",
    "    snowflake.cortex.summarize('I had to go to the store to get coffee because we ran out. I didn\\'t realize until later that we had a whole closet full of coffee. Could have saved the trip!.');"
   ]
  },
  {
   "cell_type": "code",
   "execution_count": null,
   "id": "0cb68a7f-bed2-4627-9b50-b3b2b91ad648",
   "metadata": {
    "codeCollapsed": false,
    "collapsed": false,
    "language": "python",
    "name": "cell13"
   },
   "outputs": [],
   "source": [
    "print(\n",
    "    Summarize(\n",
    "        \"\"\"I've been drinking bottled water instead of the water from my tap.\n",
    "        I found out that our house has a private well and the water we have\n",
    "         in our well is way better. I am going to stop buying bottled water.\"\"\"\n",
    "    )\n",
    ")"
   ]
  },
  {
   "cell_type": "code",
   "execution_count": null,
   "id": "ee1f3ba1-01a7-47fb-ae8f-960eb8fb5aa8",
   "metadata": {
    "codeCollapsed": false,
    "collapsed": false,
    "language": "sql",
    "name": "cell16"
   },
   "outputs": [],
   "source": [
    "select\n",
    "    airport_review,\n",
    "    snowflake.cortex.summarize(airport_review)\n",
    "from\n",
    "    airport_reviews\n",
    "limit 10;"
   ]
  },
  {
   "cell_type": "code",
   "execution_count": null,
   "id": "32b803e2-fae6-43ce-a5a2-d67403786076",
   "metadata": {
    "codeCollapsed": false,
    "collapsed": false,
    "language": "python",
    "name": "cell17"
   },
   "outputs": [],
   "source": [
    "session.table(\"airport_reviews\").select(\n",
    "    F.col(\"airport_review\"),\n",
    "    Summarize(F.col(\"airport_review\")).alias(\"review_summary\")\n",
    ").limit(5).toPandas()"
   ]
  },
  {
   "cell_type": "markdown",
   "id": "192d1262-ec14-4903-ab02-ad062142a3e8",
   "metadata": {
    "collapsed": false,
    "name": "cell19"
   },
   "source": [
    "### COMPLETE  \n",
    "https://docs.snowflake.com/en/sql-reference/functions/complete-snowflake-cortex"
   ]
  },
  {
   "cell_type": "code",
   "execution_count": null,
   "id": "9c84a730-1071-4e5c-ba08-13dac6405fca",
   "metadata": {
    "codeCollapsed": false,
    "collapsed": false,
    "language": "sql",
    "name": "cell20"
   },
   "outputs": [],
   "source": [
    "select\n",
    "    snowflake.cortex.complete(\n",
    "        'snowflake-arctic',\n",
    "        'How can we change the world with AI in three sentences?'\n",
    "    );"
   ]
  },
  {
   "cell_type": "code",
   "execution_count": null,
   "id": "6e69c3f1-e78e-4cd4-88b5-4cbe3ea26d65",
   "metadata": {
    "codeCollapsed": false,
    "collapsed": false,
    "language": "python",
    "name": "cell18"
   },
   "outputs": [],
   "source": [
    "print(\n",
    "    Complete(\n",
    "        \"snowflake-arctic\",\n",
    "        \"What can you tell me about Wheaten Terriers?\"\n",
    "    )\n",
    ")"
   ]
  },
  {
   "cell_type": "code",
   "execution_count": null,
   "id": "81f9363d-ab70-4a55-be84-057439ca91b8",
   "metadata": {
    "codeCollapsed": false,
    "collapsed": false,
    "language": "sql",
    "name": "cell22"
   },
   "outputs": [],
   "source": [
    "select\n",
    "    description,\n",
    "    snowflake.cortex.complete(\n",
    "        'snowflake-arctic',\n",
    "        CONCAT(\n",
    "            'You\\'re a wine sommelier. I really like grape juice and I don\\'t like dry\n",
    "            wines. Based on the review between <review> and </review>, can you tell me if \n",
    "            this would be a good wine for me? <review>', description, '</review>'\n",
    "        )\n",
    "    ) as answer\n",
    "from\n",
    "    wine_reviews\n",
    "limit 2;"
   ]
  },
  {
   "cell_type": "code",
   "execution_count": null,
   "id": "07ab9fed-ba3f-44ec-b585-4f505b5c1f4c",
   "metadata": {
    "codeCollapsed": false,
    "collapsed": false,
    "language": "python",
    "name": "cell21"
   },
   "outputs": [],
   "source": [
    "session.table(\"wine_reviews\").select(\n",
    "    F.col(\"description\"),\n",
    "    Complete(\n",
    "        \"snowflake-arctic\",\n",
    "        F.concat(\n",
    "            F.lit(\"\"\"Based on the value between the <context> and </context> tags, please provide me with an understanding\n",
    "            of what I should expect if I drink this wine.\n",
    "            <context>\"\"\"),\n",
    "            F.col(\"description\"),\n",
    "            F.lit(\"</context>\"))\n",
    "    ).alias(\"expectation\")\n",
    ").limit(10).toPandas()"
   ]
  },
  {
   "cell_type": "markdown",
   "id": "e5b7904b-b970-4c4b-b834-e3675c30a947",
   "metadata": {
    "collapsed": false,
    "name": "cell24"
   },
   "source": [
    "### EMBED_TEXT\n",
    "https://docs.snowflake.com/sql-reference/functions/embed_text-snowflake-cortex"
   ]
  },
  {
   "cell_type": "code",
   "execution_count": null,
   "id": "ce31f9b4-b5b6-42a9-98e2-ec67386cb153",
   "metadata": {
    "codeCollapsed": false,
    "collapsed": false,
    "language": "sql",
    "name": "cell25"
   },
   "outputs": [],
   "source": [
    "select\n",
    "    snowflake.cortex.embed_text_768(\n",
    "        'snowflake-arctic-embed-m',\n",
    "        'California Contemporary style homes'\n",
    "    );"
   ]
  },
  {
   "cell_type": "code",
   "execution_count": null,
   "id": "3db3d506-c323-4574-874c-5a12da40a31a",
   "metadata": {
    "codeCollapsed": false,
    "collapsed": false,
    "language": "sql",
    "name": "cell26"
   },
   "outputs": [],
   "source": [
    "select\n",
    "    description,\n",
    "    snowflake.cortex.embed_text_768(\n",
    "        'snowflake-arctic-embed-m',\n",
    "        description\n",
    "    ) as description_embedding\n",
    "from\n",
    "    wine_reviews\n",
    "limit 10;"
   ]
  },
  {
   "cell_type": "markdown",
   "id": "26dc9253-e399-4b3e-a319-cee27b2345ba",
   "metadata": {
    "collapsed": false,
    "name": "cell27"
   },
   "source": [
    "### VECTOR DISTANCE CALCULATIONS  \n",
    "https://docs.snowflake.com/en/sql-reference/functions/vector_cosine_similarity"
   ]
  },
  {
   "cell_type": "code",
   "execution_count": null,
   "id": "9c038dd7-d6d8-435c-921d-c56707ddcb95",
   "metadata": {
    "codeCollapsed": false,
    "language": "sql",
    "name": "cell28"
   },
   "outputs": [],
   "source": [
    "select\n",
    "    vector_cosine_similarity(\n",
    "        snowflake.cortex.embed_text_768('snowflake-arctic-embed-m', 'California Contemporary style homes'),\n",
    "        snowflake.cortex.embed_text_768('snowflake-arctic-embed-m', 'California Contemporary style homes')\n",
    "    );"
   ]
  },
  {
   "cell_type": "code",
   "execution_count": null,
   "id": "479dd89e-1620-478b-9a21-5040781d7a1a",
   "metadata": {
    "codeCollapsed": false,
    "language": "sql",
    "name": "cell29"
   },
   "outputs": [],
   "source": [
    "select\n",
    "    *,\n",
    "    vector_cosine_similarity(\n",
    "        information_embeds,\n",
    "        snowflake.cortex.embed_text_768('snowflake-arctic-embed-m', 'I like wines that are sweet and from California.')\n",
    "    ) as similarity\n",
    "from\n",
    "    wine_reviews\n",
    "order by\n",
    "    similarity desc\n",
    "limit 10;"
   ]
  },
  {
   "cell_type": "markdown",
   "id": "e1b032c3-6d2c-472a-bfc9-676e20d3c09e",
   "metadata": {
    "collapsed": false,
    "name": "cell23"
   },
   "source": [
    "Feel free to write your own queries below. SQL or Python!"
   ]
  }
 ],
 "metadata": {
  "kernelspec": {
   "display_name": "Streamlit Notebook",
   "name": "streamlit"
  }
 },
 "nbformat": 4,
 "nbformat_minor": 5
}
